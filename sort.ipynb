{
 "cells": [
  {
   "cell_type": "code",
   "execution_count": 8,
   "id": "6a180f64",
   "metadata": {},
   "outputs": [
    {
     "name": "stdout",
     "output_type": "stream",
     "text": [
      "Olena: Small deal — Proceed without issues\n",
      "Ihor: Medium deal — Check documents\n",
      "Maria: Big client — Blacklist\n",
      "Anton: Fake data\n",
      "Serhiy: Medium deal — Unknown status\n"
     ]
    }
   ],
   "source": [
    "clients = [\n",
    "    {\"name\": \"Olena\", \"amount\": 50, \"status\": \"clean\"},\n",
    "    {\"name\": \"Ihor\", \"amount\": 500, \"status\": \"suspicious\"},\n",
    "    {\"name\": \"Maria\", \"amount\": 1500, \"status\": \"fraud\"},\n",
    "    {\"name\": \"Anton\", \"amount\": \"unknown\", \"status\": \"clean\"},\n",
    "    {\"name\": \"Serhiy\", \"amount\": 300, \"status\": \"unknown\"},\n",
    "]\n",
    "\n",
    "results = []\n",
    "\n",
    "for client in clients:\n",
    "    name = client.get(\"name\", \"Unknown\")\n",
    "    amount = client.get(\"amount\")\n",
    "    status = client.get(\"status\", \"\")\n",
    "\n",
    "    \n",
    "    if not isinstance(amount, (int, float)):\n",
    "        results.append(f\"{name}: Fake data\")\n",
    "        continue\n",
    "\n",
    "    if amount < 100:\n",
    "        category = \"Small deal\"\n",
    "    elif amount < 1000:\n",
    "        category = \"Medium deal\"\n",
    "    else:\n",
    "        category = \"Big client\"\n",
    "\n",
    "    match status:\n",
    "        case \"clean\":\n",
    "            decision = \"Proceed without issues\"\n",
    "        case \"suspicious\":\n",
    "            decision = \"Check documents\"\n",
    "        case \"fraud\":\n",
    "            decision = \"Blacklist\"\n",
    "        case _:\n",
    "            decision = \"Unknown status\"\n",
    "\n",
    "    results.append(f\"{name}: {category} — {decision}\")\n",
    "\n",
    "for line in results:\n",
    "    print(line)"
   ]
  }
 ],
 "metadata": {
  "kernelspec": {
   "display_name": "Python 3",
   "language": "python",
   "name": "python3"
  },
  "language_info": {
   "codemirror_mode": {
    "name": "ipython",
    "version": 3
   },
   "file_extension": ".py",
   "mimetype": "text/x-python",
   "name": "python",
   "nbconvert_exporter": "python",
   "pygments_lexer": "ipython3",
   "version": "3.11.9"
  }
 },
 "nbformat": 4,
 "nbformat_minor": 5
}
