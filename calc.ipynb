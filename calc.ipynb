{
 "cells": [
  {
   "cell_type": "code",
   "execution_count": 2,
   "id": "3b04ce70",
   "metadata": {},
   "outputs": [
    {
     "name": "stdout",
     "output_type": "stream",
     "text": [
      "5.0\n"
     ]
    }
   ],
   "source": [
    "def calc():\n",
    "    num1 = float(input(\"перше число: \"))\n",
    "    num2 = float(input(\"друге число: \"))\n",
    "\n",
    "    operation = input(\"Оберіть операцію (+, -, *, /): \")\n",
    "    if operation == \"+\":\n",
    "        result = num1 + num2\n",
    "        print(f\"{result}\")\n",
    "    elif operation == \"-\":\n",
    "        result = num1 - num2\n",
    "        print(f\"{result}\")\n",
    "    elif operation == \"*\":\n",
    "        result = num1 * num2\n",
    "        print(f\"{result}\")\n",
    "    elif operation == \"/\":\n",
    "        result = num1 / num2\n",
    "        print(f\"{result}\")\n",
    "    \n",
    "calc()\n",
    "\n",
    "\n",
    "\n",
    "\n"
   ]
  }
 ],
 "metadata": {
  "kernelspec": {
   "display_name": "Python 3",
   "language": "python",
   "name": "python3"
  },
  "language_info": {
   "codemirror_mode": {
    "name": "ipython",
    "version": 3
   },
   "file_extension": ".py",
   "mimetype": "text/x-python",
   "name": "python",
   "nbconvert_exporter": "python",
   "pygments_lexer": "ipython3",
   "version": "3.11.9"
  }
 },
 "nbformat": 4,
 "nbformat_minor": 5
}
