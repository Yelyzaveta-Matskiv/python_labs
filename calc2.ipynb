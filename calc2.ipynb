{
 "cells": [
  {
   "cell_type": "code",
   "execution_count": 2,
   "id": "1657e747",
   "metadata": {},
   "outputs": [
    {
     "name": "stdout",
     "output_type": "stream",
     "text": [
      "Невідома операція\n"
     ]
    }
   ],
   "source": [
    "def calc():\n",
    "    first_num = float(input(\"перше число: \"))\n",
    "    second_num = float(input(\"друге число: \"))\n",
    "\n",
    "    operation = input(\"Оберіть операцію (+, -, *, /): \")\n",
    "    if operation == \"+\":\n",
    "        answer = first_num + second_num\n",
    "        print(f\"{answer}\")\n",
    "    elif operation == \"-\":\n",
    "        answer = first_num - second_num\n",
    "        print(f\"{answer}\")\n",
    "    elif operation == \"*\":\n",
    "        answer = first_num * second_num\n",
    "        print(f\"{answer}\")\n",
    "    elif operation == \"/\":\n",
    "        if second_num == 0:\n",
    "            print(\"Не можна ділити на 0\")\n",
    "        else:\n",
    "            answer = first_num / second_num\n",
    "            print(f\"{answer}\")\n",
    "    else:\n",
    "        print(\"Невідома операція\")\n",
    "calc()"
   ]
  }
 ],
 "metadata": {
  "kernelspec": {
   "display_name": "Python 3",
   "language": "python",
   "name": "python3"
  },
  "language_info": {
   "codemirror_mode": {
    "name": "ipython",
    "version": 3
   },
   "file_extension": ".py",
   "mimetype": "text/x-python",
   "name": "python",
   "nbconvert_exporter": "python",
   "pygments_lexer": "ipython3",
   "version": "3.11.9"
  }
 },
 "nbformat": 4,
 "nbformat_minor": 5
}
