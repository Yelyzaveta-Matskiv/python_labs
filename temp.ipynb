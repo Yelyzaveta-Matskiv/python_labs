{
 "cells": [
  {
   "cell_type": "code",
   "execution_count": 1,
   "id": "ad24dc17",
   "metadata": {},
   "outputs": [
    {
     "name": "stdout",
     "output_type": "stream",
     "text": [
      "Too cold\n",
      "Free sale\n"
     ]
    }
   ],
   "source": [
    "temperature = float(input(\"Enter temperature: \"))\n",
    "if temperature <= 5:\n",
    "    print(\"Too cold\")\n",
    "elif temperature <= 25:\n",
    "    print(\"Too hot\")\n",
    "else:\n",
    "    print(\"Normal\")\n",
    "\n",
    "category = input(\"Enter category (antibiotics, vitamins, vaccine): \")\n",
    "if category == \"antibiotics\":\n",
    "    print(\"Prescription drug\")\n",
    "elif category == \"vitamins\":\n",
    "    print(\"Free sale\")\n",
    "elif category == \"vaccine\":\n",
    "    print(\"Special storage required\")\n",
    "else:\n",
    "    print(\"Unknown category\")"
   ]
  }
 ],
 "metadata": {
  "kernelspec": {
   "display_name": "Python 3",
   "language": "python",
   "name": "python3"
  },
  "language_info": {
   "codemirror_mode": {
    "name": "ipython",
    "version": 3
   },
   "file_extension": ".py",
   "mimetype": "text/x-python",
   "name": "python",
   "nbconvert_exporter": "python",
   "pygments_lexer": "ipython3",
   "version": "3.11.9"
  }
 },
 "nbformat": 4,
 "nbformat_minor": 5
}
